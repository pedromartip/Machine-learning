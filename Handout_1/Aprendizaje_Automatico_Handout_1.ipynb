{
  "nbformat": 4,
  "nbformat_minor": 0,
  "metadata": {
    "colab": {
      "provenance": []
    },
    "kernelspec": {
      "name": "python3",
      "display_name": "Python 3"
    },
    "language_info": {
      "name": "python"
    }
  },
  "cells": [
    {
      "cell_type": "markdown",
      "source": [
        "Installing libraries"
      ],
      "metadata": {
        "id": "DFz9y2nkVWYd"
      }
    },
    {
      "cell_type": "code",
      "execution_count": 1,
      "metadata": {
        "id": "5lxA6RMKToBX"
      },
      "outputs": [],
      "source": [
        "import pandas as pd\n",
        "from scipy.io import arff"
      ]
    },
    {
      "cell_type": "markdown",
      "source": [
        "T2. Load the dataset in Python using the ARFF importer from the scipy library.\n"
      ],
      "metadata": {
        "id": "0lye8lelU8CA"
      }
    },
    {
      "cell_type": "code",
      "source": [
        "# Function to load an ARFF\n",
        "def read_arff_as_df_scipy():\n",
        "    dt = arff.loadarff(\"/content/dataset_55_hepatitis.arff\")\n",
        "    df = pd.DataFrame(dt[0], columns=dt[1])\n",
        "    return df"
      ],
      "metadata": {
        "id": "NsQKWlC9UeSw"
      },
      "execution_count": 2,
      "outputs": []
    },
    {
      "cell_type": "markdown",
      "source": [
        "**T3.** *Have a look at the dataset by means of methods info() and head(): find the column which stores class data (ground truth), determine the number of samples and features of this dataset, detect columns with missing*\n"
      ],
      "metadata": {
        "id": "NBuU2LiGaYtU"
      }
    },
    {
      "cell_type": "code",
      "source": [
        "df = read_arff_as_df_scipy()\n",
        "df.head()"
      ],
      "metadata": {
        "colab": {
          "base_uri": "https://localhost:8080/",
          "height": 226
        },
        "id": "7O9LYD_uUgWG",
        "outputId": "441575ae-af36-444d-9858-27df8711071d"
      },
      "execution_count": 3,
      "outputs": [
        {
          "output_type": "execute_result",
          "data": {
            "text/plain": [
              "    AGE        SEX STEROID ANTIVIRALS FATIGUE MALAISE ANOREXIA LIVER_BIG  \\\n",
              "0  30.0    b'male'   b'no'      b'no'   b'no'   b'no'    b'no'     b'no'   \n",
              "1  50.0  b'female'   b'no'      b'no'  b'yes'   b'no'    b'no'     b'no'   \n",
              "2  78.0  b'female'  b'yes'      b'no'  b'yes'   b'no'    b'no'    b'yes'   \n",
              "3  31.0  b'female'    b'?'     b'yes'   b'no'   b'no'    b'no'    b'yes'   \n",
              "4  34.0  b'female'  b'yes'      b'no'   b'no'   b'no'    b'no'    b'yes'   \n",
              "\n",
              "  LIVER_FIRM SPLEEN_PALPABLE SPIDERS ASCITES VARICES  BILIRUBIN  \\\n",
              "0      b'no'           b'no'   b'no'   b'no'   b'no'        1.0   \n",
              "1      b'no'           b'no'   b'no'   b'no'   b'no'        0.9   \n",
              "2      b'no'           b'no'   b'no'   b'no'   b'no'        0.7   \n",
              "3      b'no'           b'no'   b'no'   b'no'   b'no'        0.7   \n",
              "4      b'no'           b'no'   b'no'   b'no'   b'no'        1.0   \n",
              "\n",
              "   ALK_PHOSPHATE   SGOT  ALBUMIN  PROTIME HISTOLOGY    Class  \n",
              "0           85.0   18.0      4.0      NaN     b'no'  b'LIVE'  \n",
              "1          135.0   42.0      3.5      NaN     b'no'  b'LIVE'  \n",
              "2           96.0   32.0      4.0      NaN     b'no'  b'LIVE'  \n",
              "3           46.0   52.0      4.0     80.0     b'no'  b'LIVE'  \n",
              "4            NaN  200.0      4.0      NaN     b'no'  b'LIVE'  "
            ],
            "text/html": [
              "\n",
              "  <div id=\"df-7b49607a-6d44-4f0e-8993-eab271bab639\" class=\"colab-df-container\">\n",
              "    <div>\n",
              "<style scoped>\n",
              "    .dataframe tbody tr th:only-of-type {\n",
              "        vertical-align: middle;\n",
              "    }\n",
              "\n",
              "    .dataframe tbody tr th {\n",
              "        vertical-align: top;\n",
              "    }\n",
              "\n",
              "    .dataframe thead th {\n",
              "        text-align: right;\n",
              "    }\n",
              "</style>\n",
              "<table border=\"1\" class=\"dataframe\">\n",
              "  <thead>\n",
              "    <tr style=\"text-align: right;\">\n",
              "      <th></th>\n",
              "      <th>AGE</th>\n",
              "      <th>SEX</th>\n",
              "      <th>STEROID</th>\n",
              "      <th>ANTIVIRALS</th>\n",
              "      <th>FATIGUE</th>\n",
              "      <th>MALAISE</th>\n",
              "      <th>ANOREXIA</th>\n",
              "      <th>LIVER_BIG</th>\n",
              "      <th>LIVER_FIRM</th>\n",
              "      <th>SPLEEN_PALPABLE</th>\n",
              "      <th>SPIDERS</th>\n",
              "      <th>ASCITES</th>\n",
              "      <th>VARICES</th>\n",
              "      <th>BILIRUBIN</th>\n",
              "      <th>ALK_PHOSPHATE</th>\n",
              "      <th>SGOT</th>\n",
              "      <th>ALBUMIN</th>\n",
              "      <th>PROTIME</th>\n",
              "      <th>HISTOLOGY</th>\n",
              "      <th>Class</th>\n",
              "    </tr>\n",
              "  </thead>\n",
              "  <tbody>\n",
              "    <tr>\n",
              "      <th>0</th>\n",
              "      <td>30.0</td>\n",
              "      <td>b'male'</td>\n",
              "      <td>b'no'</td>\n",
              "      <td>b'no'</td>\n",
              "      <td>b'no'</td>\n",
              "      <td>b'no'</td>\n",
              "      <td>b'no'</td>\n",
              "      <td>b'no'</td>\n",
              "      <td>b'no'</td>\n",
              "      <td>b'no'</td>\n",
              "      <td>b'no'</td>\n",
              "      <td>b'no'</td>\n",
              "      <td>b'no'</td>\n",
              "      <td>1.0</td>\n",
              "      <td>85.0</td>\n",
              "      <td>18.0</td>\n",
              "      <td>4.0</td>\n",
              "      <td>NaN</td>\n",
              "      <td>b'no'</td>\n",
              "      <td>b'LIVE'</td>\n",
              "    </tr>\n",
              "    <tr>\n",
              "      <th>1</th>\n",
              "      <td>50.0</td>\n",
              "      <td>b'female'</td>\n",
              "      <td>b'no'</td>\n",
              "      <td>b'no'</td>\n",
              "      <td>b'yes'</td>\n",
              "      <td>b'no'</td>\n",
              "      <td>b'no'</td>\n",
              "      <td>b'no'</td>\n",
              "      <td>b'no'</td>\n",
              "      <td>b'no'</td>\n",
              "      <td>b'no'</td>\n",
              "      <td>b'no'</td>\n",
              "      <td>b'no'</td>\n",
              "      <td>0.9</td>\n",
              "      <td>135.0</td>\n",
              "      <td>42.0</td>\n",
              "      <td>3.5</td>\n",
              "      <td>NaN</td>\n",
              "      <td>b'no'</td>\n",
              "      <td>b'LIVE'</td>\n",
              "    </tr>\n",
              "    <tr>\n",
              "      <th>2</th>\n",
              "      <td>78.0</td>\n",
              "      <td>b'female'</td>\n",
              "      <td>b'yes'</td>\n",
              "      <td>b'no'</td>\n",
              "      <td>b'yes'</td>\n",
              "      <td>b'no'</td>\n",
              "      <td>b'no'</td>\n",
              "      <td>b'yes'</td>\n",
              "      <td>b'no'</td>\n",
              "      <td>b'no'</td>\n",
              "      <td>b'no'</td>\n",
              "      <td>b'no'</td>\n",
              "      <td>b'no'</td>\n",
              "      <td>0.7</td>\n",
              "      <td>96.0</td>\n",
              "      <td>32.0</td>\n",
              "      <td>4.0</td>\n",
              "      <td>NaN</td>\n",
              "      <td>b'no'</td>\n",
              "      <td>b'LIVE'</td>\n",
              "    </tr>\n",
              "    <tr>\n",
              "      <th>3</th>\n",
              "      <td>31.0</td>\n",
              "      <td>b'female'</td>\n",
              "      <td>b'?'</td>\n",
              "      <td>b'yes'</td>\n",
              "      <td>b'no'</td>\n",
              "      <td>b'no'</td>\n",
              "      <td>b'no'</td>\n",
              "      <td>b'yes'</td>\n",
              "      <td>b'no'</td>\n",
              "      <td>b'no'</td>\n",
              "      <td>b'no'</td>\n",
              "      <td>b'no'</td>\n",
              "      <td>b'no'</td>\n",
              "      <td>0.7</td>\n",
              "      <td>46.0</td>\n",
              "      <td>52.0</td>\n",
              "      <td>4.0</td>\n",
              "      <td>80.0</td>\n",
              "      <td>b'no'</td>\n",
              "      <td>b'LIVE'</td>\n",
              "    </tr>\n",
              "    <tr>\n",
              "      <th>4</th>\n",
              "      <td>34.0</td>\n",
              "      <td>b'female'</td>\n",
              "      <td>b'yes'</td>\n",
              "      <td>b'no'</td>\n",
              "      <td>b'no'</td>\n",
              "      <td>b'no'</td>\n",
              "      <td>b'no'</td>\n",
              "      <td>b'yes'</td>\n",
              "      <td>b'no'</td>\n",
              "      <td>b'no'</td>\n",
              "      <td>b'no'</td>\n",
              "      <td>b'no'</td>\n",
              "      <td>b'no'</td>\n",
              "      <td>1.0</td>\n",
              "      <td>NaN</td>\n",
              "      <td>200.0</td>\n",
              "      <td>4.0</td>\n",
              "      <td>NaN</td>\n",
              "      <td>b'no'</td>\n",
              "      <td>b'LIVE'</td>\n",
              "    </tr>\n",
              "  </tbody>\n",
              "</table>\n",
              "</div>\n",
              "    <div class=\"colab-df-buttons\">\n",
              "\n",
              "  <div class=\"colab-df-container\">\n",
              "    <button class=\"colab-df-convert\" onclick=\"convertToInteractive('df-7b49607a-6d44-4f0e-8993-eab271bab639')\"\n",
              "            title=\"Convert this dataframe to an interactive table.\"\n",
              "            style=\"display:none;\">\n",
              "\n",
              "  <svg xmlns=\"http://www.w3.org/2000/svg\" height=\"24px\" viewBox=\"0 -960 960 960\">\n",
              "    <path d=\"M120-120v-720h720v720H120Zm60-500h600v-160H180v160Zm220 220h160v-160H400v160Zm0 220h160v-160H400v160ZM180-400h160v-160H180v160Zm440 0h160v-160H620v160ZM180-180h160v-160H180v160Zm440 0h160v-160H620v160Z\"/>\n",
              "  </svg>\n",
              "    </button>\n",
              "\n",
              "  <style>\n",
              "    .colab-df-container {\n",
              "      display:flex;\n",
              "      gap: 12px;\n",
              "    }\n",
              "\n",
              "    .colab-df-convert {\n",
              "      background-color: #E8F0FE;\n",
              "      border: none;\n",
              "      border-radius: 50%;\n",
              "      cursor: pointer;\n",
              "      display: none;\n",
              "      fill: #1967D2;\n",
              "      height: 32px;\n",
              "      padding: 0 0 0 0;\n",
              "      width: 32px;\n",
              "    }\n",
              "\n",
              "    .colab-df-convert:hover {\n",
              "      background-color: #E2EBFA;\n",
              "      box-shadow: 0px 1px 2px rgba(60, 64, 67, 0.3), 0px 1px 3px 1px rgba(60, 64, 67, 0.15);\n",
              "      fill: #174EA6;\n",
              "    }\n",
              "\n",
              "    .colab-df-buttons div {\n",
              "      margin-bottom: 4px;\n",
              "    }\n",
              "\n",
              "    [theme=dark] .colab-df-convert {\n",
              "      background-color: #3B4455;\n",
              "      fill: #D2E3FC;\n",
              "    }\n",
              "\n",
              "    [theme=dark] .colab-df-convert:hover {\n",
              "      background-color: #434B5C;\n",
              "      box-shadow: 0px 1px 3px 1px rgba(0, 0, 0, 0.15);\n",
              "      filter: drop-shadow(0px 1px 2px rgba(0, 0, 0, 0.3));\n",
              "      fill: #FFFFFF;\n",
              "    }\n",
              "  </style>\n",
              "\n",
              "    <script>\n",
              "      const buttonEl =\n",
              "        document.querySelector('#df-7b49607a-6d44-4f0e-8993-eab271bab639 button.colab-df-convert');\n",
              "      buttonEl.style.display =\n",
              "        google.colab.kernel.accessAllowed ? 'block' : 'none';\n",
              "\n",
              "      async function convertToInteractive(key) {\n",
              "        const element = document.querySelector('#df-7b49607a-6d44-4f0e-8993-eab271bab639');\n",
              "        const dataTable =\n",
              "          await google.colab.kernel.invokeFunction('convertToInteractive',\n",
              "                                                    [key], {});\n",
              "        if (!dataTable) return;\n",
              "\n",
              "        const docLinkHtml = 'Like what you see? Visit the ' +\n",
              "          '<a target=\"_blank\" href=https://colab.research.google.com/notebooks/data_table.ipynb>data table notebook</a>'\n",
              "          + ' to learn more about interactive tables.';\n",
              "        element.innerHTML = '';\n",
              "        dataTable['output_type'] = 'display_data';\n",
              "        await google.colab.output.renderOutput(dataTable, element);\n",
              "        const docLink = document.createElement('div');\n",
              "        docLink.innerHTML = docLinkHtml;\n",
              "        element.appendChild(docLink);\n",
              "      }\n",
              "    </script>\n",
              "  </div>\n",
              "\n",
              "\n",
              "<div id=\"df-81ec8be8-4789-4cf5-beb2-44ce7a7d3283\">\n",
              "  <button class=\"colab-df-quickchart\" onclick=\"quickchart('df-81ec8be8-4789-4cf5-beb2-44ce7a7d3283')\"\n",
              "            title=\"Suggest charts.\"\n",
              "            style=\"display:none;\">\n",
              "\n",
              "<svg xmlns=\"http://www.w3.org/2000/svg\" height=\"24px\"viewBox=\"0 0 24 24\"\n",
              "     width=\"24px\">\n",
              "    <g>\n",
              "        <path d=\"M19 3H5c-1.1 0-2 .9-2 2v14c0 1.1.9 2 2 2h14c1.1 0 2-.9 2-2V5c0-1.1-.9-2-2-2zM9 17H7v-7h2v7zm4 0h-2V7h2v10zm4 0h-2v-4h2v4z\"/>\n",
              "    </g>\n",
              "</svg>\n",
              "  </button>\n",
              "\n",
              "<style>\n",
              "  .colab-df-quickchart {\n",
              "      --bg-color: #E8F0FE;\n",
              "      --fill-color: #1967D2;\n",
              "      --hover-bg-color: #E2EBFA;\n",
              "      --hover-fill-color: #174EA6;\n",
              "      --disabled-fill-color: #AAA;\n",
              "      --disabled-bg-color: #DDD;\n",
              "  }\n",
              "\n",
              "  [theme=dark] .colab-df-quickchart {\n",
              "      --bg-color: #3B4455;\n",
              "      --fill-color: #D2E3FC;\n",
              "      --hover-bg-color: #434B5C;\n",
              "      --hover-fill-color: #FFFFFF;\n",
              "      --disabled-bg-color: #3B4455;\n",
              "      --disabled-fill-color: #666;\n",
              "  }\n",
              "\n",
              "  .colab-df-quickchart {\n",
              "    background-color: var(--bg-color);\n",
              "    border: none;\n",
              "    border-radius: 50%;\n",
              "    cursor: pointer;\n",
              "    display: none;\n",
              "    fill: var(--fill-color);\n",
              "    height: 32px;\n",
              "    padding: 0;\n",
              "    width: 32px;\n",
              "  }\n",
              "\n",
              "  .colab-df-quickchart:hover {\n",
              "    background-color: var(--hover-bg-color);\n",
              "    box-shadow: 0 1px 2px rgba(60, 64, 67, 0.3), 0 1px 3px 1px rgba(60, 64, 67, 0.15);\n",
              "    fill: var(--button-hover-fill-color);\n",
              "  }\n",
              "\n",
              "  .colab-df-quickchart-complete:disabled,\n",
              "  .colab-df-quickchart-complete:disabled:hover {\n",
              "    background-color: var(--disabled-bg-color);\n",
              "    fill: var(--disabled-fill-color);\n",
              "    box-shadow: none;\n",
              "  }\n",
              "\n",
              "  .colab-df-spinner {\n",
              "    border: 2px solid var(--fill-color);\n",
              "    border-color: transparent;\n",
              "    border-bottom-color: var(--fill-color);\n",
              "    animation:\n",
              "      spin 1s steps(1) infinite;\n",
              "  }\n",
              "\n",
              "  @keyframes spin {\n",
              "    0% {\n",
              "      border-color: transparent;\n",
              "      border-bottom-color: var(--fill-color);\n",
              "      border-left-color: var(--fill-color);\n",
              "    }\n",
              "    20% {\n",
              "      border-color: transparent;\n",
              "      border-left-color: var(--fill-color);\n",
              "      border-top-color: var(--fill-color);\n",
              "    }\n",
              "    30% {\n",
              "      border-color: transparent;\n",
              "      border-left-color: var(--fill-color);\n",
              "      border-top-color: var(--fill-color);\n",
              "      border-right-color: var(--fill-color);\n",
              "    }\n",
              "    40% {\n",
              "      border-color: transparent;\n",
              "      border-right-color: var(--fill-color);\n",
              "      border-top-color: var(--fill-color);\n",
              "    }\n",
              "    60% {\n",
              "      border-color: transparent;\n",
              "      border-right-color: var(--fill-color);\n",
              "    }\n",
              "    80% {\n",
              "      border-color: transparent;\n",
              "      border-right-color: var(--fill-color);\n",
              "      border-bottom-color: var(--fill-color);\n",
              "    }\n",
              "    90% {\n",
              "      border-color: transparent;\n",
              "      border-bottom-color: var(--fill-color);\n",
              "    }\n",
              "  }\n",
              "</style>\n",
              "\n",
              "  <script>\n",
              "    async function quickchart(key) {\n",
              "      const quickchartButtonEl =\n",
              "        document.querySelector('#' + key + ' button');\n",
              "      quickchartButtonEl.disabled = true;  // To prevent multiple clicks.\n",
              "      quickchartButtonEl.classList.add('colab-df-spinner');\n",
              "      try {\n",
              "        const charts = await google.colab.kernel.invokeFunction(\n",
              "            'suggestCharts', [key], {});\n",
              "      } catch (error) {\n",
              "        console.error('Error during call to suggestCharts:', error);\n",
              "      }\n",
              "      quickchartButtonEl.classList.remove('colab-df-spinner');\n",
              "      quickchartButtonEl.classList.add('colab-df-quickchart-complete');\n",
              "    }\n",
              "    (() => {\n",
              "      let quickchartButtonEl =\n",
              "        document.querySelector('#df-81ec8be8-4789-4cf5-beb2-44ce7a7d3283 button');\n",
              "      quickchartButtonEl.style.display =\n",
              "        google.colab.kernel.accessAllowed ? 'block' : 'none';\n",
              "    })();\n",
              "  </script>\n",
              "</div>\n",
              "    </div>\n",
              "  </div>\n"
            ]
          },
          "metadata": {},
          "execution_count": 3
        }
      ]
    },
    {
      "cell_type": "code",
      "source": [
        "df.info()"
      ],
      "metadata": {
        "colab": {
          "base_uri": "https://localhost:8080/"
        },
        "id": "37kCtI4TWoPf",
        "outputId": "6f8e7c9a-177c-410e-f2bb-4d2cd1c4d105"
      },
      "execution_count": 4,
      "outputs": [
        {
          "output_type": "stream",
          "name": "stdout",
          "text": [
            "<class 'pandas.core.frame.DataFrame'>\n",
            "RangeIndex: 155 entries, 0 to 154\n",
            "Data columns (total 20 columns):\n",
            " #   Column           Non-Null Count  Dtype  \n",
            "---  ------           --------------  -----  \n",
            " 0   AGE              155 non-null    float64\n",
            " 1   SEX              155 non-null    object \n",
            " 2   STEROID          155 non-null    object \n",
            " 3   ANTIVIRALS       155 non-null    object \n",
            " 4   FATIGUE          155 non-null    object \n",
            " 5   MALAISE          155 non-null    object \n",
            " 6   ANOREXIA         155 non-null    object \n",
            " 7   LIVER_BIG        155 non-null    object \n",
            " 8   LIVER_FIRM       155 non-null    object \n",
            " 9   SPLEEN_PALPABLE  155 non-null    object \n",
            " 10  SPIDERS          155 non-null    object \n",
            " 11  ASCITES          155 non-null    object \n",
            " 12  VARICES          155 non-null    object \n",
            " 13  BILIRUBIN        149 non-null    float64\n",
            " 14  ALK_PHOSPHATE    126 non-null    float64\n",
            " 15  SGOT             151 non-null    float64\n",
            " 16  ALBUMIN          139 non-null    float64\n",
            " 17  PROTIME          88 non-null     float64\n",
            " 18  HISTOLOGY        155 non-null    object \n",
            " 19  Class            155 non-null    object \n",
            "dtypes: float64(6), object(14)\n",
            "memory usage: 24.3+ KB\n"
          ]
        }
      ]
    },
    {
      "cell_type": "markdown",
      "source": [
        "Dataset info:\n",
        "* The class data (groun truth) is  into the column '*Class*'\n",
        "* Number of samples: 155\n",
        "* Number of features: 19 (20 including the Class column)\n",
        "* Columns with missing:\n",
        "  * PROTIME: Has 88 samples due to NaN values.\n",
        "  * STEROID: Has different fields with a ?.\n",
        "  * ALK_PHOSPHATE: Has NaN values.\n"
      ],
      "metadata": {
        "id": "SA--GuLWZX4F"
      }
    },
    {
      "cell_type": "code",
      "source": [
        " # MORE INFO ABOUT MISSING DATA\n",
        "print(\"Null data:\")\n",
        "print(df.isnull().sum())\n",
        "print(\"------\")\n",
        "print(\"Na data:\")\n",
        "print(df.isna().sum())"
      ],
      "metadata": {
        "colab": {
          "base_uri": "https://localhost:8080/"
        },
        "id": "pzDI8yg5ZjYk",
        "outputId": "675c8c04-8d42-4445-bbdc-fc4361ebd517"
      },
      "execution_count": 5,
      "outputs": [
        {
          "output_type": "stream",
          "name": "stdout",
          "text": [
            "Null data:\n",
            "AGE                 0\n",
            "SEX                 0\n",
            "STEROID             0\n",
            "ANTIVIRALS          0\n",
            "FATIGUE             0\n",
            "MALAISE             0\n",
            "ANOREXIA            0\n",
            "LIVER_BIG           0\n",
            "LIVER_FIRM          0\n",
            "SPLEEN_PALPABLE     0\n",
            "SPIDERS             0\n",
            "ASCITES             0\n",
            "VARICES             0\n",
            "BILIRUBIN           6\n",
            "ALK_PHOSPHATE      29\n",
            "SGOT                4\n",
            "ALBUMIN            16\n",
            "PROTIME            67\n",
            "HISTOLOGY           0\n",
            "Class               0\n",
            "dtype: int64\n",
            "------\n",
            "Na data:\n",
            "AGE                 0\n",
            "SEX                 0\n",
            "STEROID             0\n",
            "ANTIVIRALS          0\n",
            "FATIGUE             0\n",
            "MALAISE             0\n",
            "ANOREXIA            0\n",
            "LIVER_BIG           0\n",
            "LIVER_FIRM          0\n",
            "SPLEEN_PALPABLE     0\n",
            "SPIDERS             0\n",
            "ASCITES             0\n",
            "VARICES             0\n",
            "BILIRUBIN           6\n",
            "ALK_PHOSPHATE      29\n",
            "SGOT                4\n",
            "ALBUMIN            16\n",
            "PROTIME            67\n",
            "HISTOLOGY           0\n",
            "Class               0\n",
            "dtype: int64\n"
          ]
        }
      ]
    },
    {
      "cell_type": "markdown",
      "source": [
        "**T4.** *Adopt the following cleaning and filling strategy for dealing with missing values:*\n",
        "* *Drop features with more than 40% of missing values.*\n",
        "* *As strategy #1, drop samples with missing values and store the resulting dataframe as df1. Check the\n",
        "number of available samples and features.*\n",
        "* *As strategy #2, fill features with missing values using the median for real-valued data and the mode for\n",
        "categorical data and store the resulting dataframe as df2. Check the number of available samples and\n",
        "features.*"
      ],
      "metadata": {
        "id": "8azv7ldjclSf"
      }
    },
    {
      "cell_type": "markdown",
      "source": [
        "El código threshold = len(df) * (1 - threshold) es una forma de calcular el número mínimo de valores no nulos que una columna debe tener para no ser eliminada. Aquí está lo que hace cada parte:\n",
        "\n",
        "len(df): Esto devuelve el número total de filas en el DataFrame df. Es el número total de muestras que tienes.\n",
        "\n",
        "1 - threshold: Dado que threshold se especifica como la fracción de valores que pueden estar faltantes (por ejemplo, 0.4 para un 40%), 1 - threshold sería la fracción de valores que deben estar presentes. Por ejemplo, si aceptas un 40% de valores faltantes, entonces deseas que el 60% de los valores estén presentes.\n",
        "\n",
        "Al multiplicar estos dos valores, obtienes el número mínimo absoluto de valores no nulos que deben estar presentes en cada columna para que esa columna no sea eliminada.\n",
        "\n",
        "Por ejemplo, si tienes 100 filas de datos y has decidido que puedes tolerar un máximo del 40% de valores faltantes en cualquier columna, entonces:\n",
        "\n",
        "threshold es 0.4.\n",
        "1 - threshold es 0.6, lo que significa que esperas que al menos el 60% de los datos estén presentes.\n",
        "len(df) * (1 - threshold) será 100 * 0.6 = 60, indicando que cada columna debe tener al menos 60 valores no nulos para no ser eliminada.\n",
        "Este cálculo se utiliza en el método dropna de Pandas para especificar el número mínimo de entradas no nulas requeridas a lo largo de un eje (en este caso, cada columna, que es el eje 1) para evitar que la columna sea eliminada.\n",
        "\n"
      ],
      "metadata": {
        "id": "c55BJhGf8IzS"
      }
    },
    {
      "cell_type": "code",
      "source": [
        "treshold = 0.4  # There's a typo here; it should be \"threshold\".\n",
        "total_filas = len(df)  # Number of samples in the dataframe.\n",
        "valores_presentes = 1 - treshold  # Calculates the proportion of present values required.\n",
        "min_absolute_values_no_null = total_filas * valores_presentes  # Calculates the absolute number of non-null values required.\n",
        "\n",
        "# Drops columns with less non-null values than the threshold.\n",
        "df_dropna_cleaned = df.dropna(thresh=min_absolute_values_no_null, axis=1)\n",
        "\n",
        "df1 = df_dropna_cleaned.dropna()  # Drops rows with any missing values.\n",
        "\n",
        "# Creates a copy of the cleaned dataframe for the second strategy.\n",
        "df2 = df_dropna_cleaned.copy()\n",
        "\n",
        "# Select columns with real numerical data.\n",
        "real_data = df2.select_dtypes(include=['float64', 'int']).columns\n",
        "\n",
        "# Select columns with categorical data.\n",
        "categorical_data = df2.select_dtypes(include=['object', 'bool']).columns\n",
        "\n",
        "# Fill missing values for real numerical data with the median of the column.\n",
        "for column in real_data:\n",
        "    df2[column].fillna(df2[column].median(), inplace=True)\n",
        "\n",
        "# Fill missing values for categorical data with the mode of the column.\n",
        "for column in categorical_data:\n",
        "    df2[column].fillna(df2[column].mode()[0], inplace=True)\n",
        "\n",
        "print(\"Dataframe after deleting features with more than 40% of missing values\")\n",
        "# Corrected from `df_dropna_info` to `df_dropna_cleaned`\n",
        "print(f\"Remaining features: {df_dropna_cleaned.shape[1]}\")\n",
        "# Corrected from `df_dropna_info` to `df_dropna_cleaned`\n",
        "print(f\"Available samples: {df_dropna_cleaned.shape[0]}\")\n",
        "\n",
        "print(\"\\nStrategy 1: Deleting samples with missing values:\")\n",
        "# Swapped the shape indices because shape[1] is the number of columns (features),\n",
        "# and shape[0] is the number of rows (samples).\n",
        "print(f\"Remaining features in df1: {df1.shape[1]}\")\n",
        "print(f\"Remaining samples in df1: {df1.shape[0]}\")\n",
        "\n",
        "print(\"\\nStrategy 2: Filling features with missing values:\")\n",
        "# Again, swapped the shape indices.\n",
        "print(f\"Remaining features in df2: {df2.shape[1]}\")\n",
        "print(f\"Remaining samples in df2: {df2.shape[0]}\")\n"
      ],
      "metadata": {
        "colab": {
          "base_uri": "https://localhost:8080/"
        },
        "id": "PZImlTaGcxiv",
        "outputId": "de87c4de-408b-4eab-f839-e389fa1198f5"
      },
      "execution_count": 8,
      "outputs": [
        {
          "output_type": "stream",
          "name": "stdout",
          "text": [
            "Dataframe after deleting features with more than 40% of missing values\n",
            "Remaining features: 19\n",
            "Available samples: 155\n",
            "\n",
            "Strategy 1: Deleting samples with missing values:\n",
            "Remaining features in df1: 19\n",
            "Remaining samples in df1: 120\n",
            "\n",
            "Strategy 2: Filling features with missing values:\n",
            "Remaining features in df2: 19\n",
            "Remaining samples in df2: 155\n"
          ]
        }
      ]
    },
    {
      "cell_type": "markdown",
      "source": [
        "**T5.** *Transform categorical features into integer-valued features, using progressive integer labels. You have to do it for both df1 and df2.*\n",
        "\n",
        "Categorical features often need to be transformed into a numeric format to be used in machine learning models. This task uses the LabelEncoder from sklearn to transform categorical columns into integer labels."
      ],
      "metadata": {
        "id": "C3-lhg0_95NI"
      }
    },
    {
      "cell_type": "code",
      "source": [
        "from sklearn.preprocessing import LabelEncoder  # Import the LabelEncoder class for encoding labels.\n",
        "\n",
        "def encode_categorical(df):\n",
        "    le = LabelEncoder()                         # Instantiate the label encoder.\n",
        "    for col in df.columns:                      # Iterate over each column in the DataFrame.\n",
        "        if df[col].dtype == 'object':           # Check if the column is of object type (categorical).\n",
        "            df[col] = le.fit_transform(df[col]) # Encode the categorical values to integers.\n",
        "    return df                                   # Return the DataFrame with encoded columns.\n",
        "\n",
        "df1_encoded = encode_categorical(df1.copy())    # Apply encoding to df1 and create df1_encoded.\n",
        "df2_encoded = encode_categorical(df2.copy())    # Apply encoding to df2 and create df2_encoded.\n",
        "print(df1_encoded.head())\n",
        "print(df2_encoded.head())"
      ],
      "metadata": {
        "id": "nJFRl3s99_MK",
        "colab": {
          "base_uri": "https://localhost:8080/"
        },
        "outputId": "cae406c6-2345-460e-9a2a-77bd3ccfb51f"
      },
      "execution_count": 10,
      "outputs": [
        {
          "output_type": "stream",
          "name": "stdout",
          "text": [
            "    AGE  SEX  STEROID  ANTIVIRALS  FATIGUE  MALAISE  ANOREXIA  LIVER_BIG  \\\n",
            "0  30.0    1        1           0        0        0         0          1   \n",
            "1  50.0    0        1           0        1        0         0          1   \n",
            "2  78.0    0        2           0        1        0         0          2   \n",
            "3  31.0    0        0           1        0        0         0          2   \n",
            "5  34.0    0        2           0        0        0         0          2   \n",
            "\n",
            "   LIVER_FIRM  SPLEEN_PALPABLE  SPIDERS  ASCITES  VARICES  BILIRUBIN  \\\n",
            "0           1                1        1        1        1        1.0   \n",
            "1           1                1        1        1        1        0.9   \n",
            "2           1                1        1        1        1        0.7   \n",
            "3           1                1        1        1        1        0.7   \n",
            "5           1                1        1        1        1        0.9   \n",
            "\n",
            "   ALK_PHOSPHATE  SGOT  ALBUMIN  HISTOLOGY  Class  \n",
            "0           85.0  18.0      4.0          0      1  \n",
            "1          135.0  42.0      3.5          0      1  \n",
            "2           96.0  32.0      4.0          0      1  \n",
            "3           46.0  52.0      4.0          0      1  \n",
            "5           95.0  28.0      4.0          0      1  \n",
            "    AGE  SEX  STEROID  ANTIVIRALS  FATIGUE  MALAISE  ANOREXIA  LIVER_BIG  \\\n",
            "0  30.0    1        1           0        1        1         1          1   \n",
            "1  50.0    0        1           0        2        1         1          1   \n",
            "2  78.0    0        2           0        2        1         1          2   \n",
            "3  31.0    0        0           1        1        1         1          2   \n",
            "4  34.0    0        2           0        1        1         1          2   \n",
            "\n",
            "   LIVER_FIRM  SPLEEN_PALPABLE  SPIDERS  ASCITES  VARICES  BILIRUBIN  \\\n",
            "0           1                1        1        1        1        1.0   \n",
            "1           1                1        1        1        1        0.9   \n",
            "2           1                1        1        1        1        0.7   \n",
            "3           1                1        1        1        1        0.7   \n",
            "4           1                1        1        1        1        1.0   \n",
            "\n",
            "   ALK_PHOSPHATE   SGOT  ALBUMIN  HISTOLOGY  Class  \n",
            "0           85.0   18.0      4.0          0      1  \n",
            "1          135.0   42.0      3.5          0      1  \n",
            "2           96.0   32.0      4.0          0      1  \n",
            "3           46.0   52.0      4.0          0      1  \n",
            "4           85.0  200.0      4.0          0      1  \n"
          ]
        }
      ]
    },
    {
      "cell_type": "markdown",
      "source": [
        "**T6.** *Normalize features using min-max normalization for df1 and df2*.\n",
        "\n",
        "Feature normalization is a scaling technique that brings all values into the range [0, 1]. This is important for models that are sensitive to large numerical values. This task uses the MinMaxScaler from sklearn to normalize all features.\n"
      ],
      "metadata": {
        "id": "ha66LJqLN3YB"
      }
    },
    {
      "cell_type": "code",
      "source": [
        "from sklearn.preprocessing import MinMaxScaler  # Import the MinMaxScaler class for normalization.\n",
        "\n",
        "def normalize_features(df):\n",
        "    scaler = MinMaxScaler()                     # Instantiate the MinMaxScaler.\n",
        "    df_scaled = pd.DataFrame(scaler.fit_transform(df), columns=df.columns)  # Scale the features and create a new DataFrame.\n",
        "    return df_scaled                            # Return the normalized DataFrame.\n",
        "\n",
        "df1_normalized = normalize_features(df1_encoded)  # Normalize df1_encoded to create df1_normalized.\n",
        "df2_normalized = normalize_features(df2_encoded)  # Normalize df2_encoded to create df2_normalized.\n",
        "print(df1_normalized.head())\n",
        "print(df2_normalized.head())\n"
      ],
      "metadata": {
        "colab": {
          "base_uri": "https://localhost:8080/"
        },
        "id": "SG3BhaNpN-WY",
        "outputId": "bdd947f6-d7c7-4757-e6ee-8ce094c95d35"
      },
      "execution_count": 11,
      "outputs": [
        {
          "output_type": "stream",
          "name": "stdout",
          "text": [
            "        AGE  SEX  STEROID  ANTIVIRALS  FATIGUE  MALAISE  ANOREXIA  LIVER_BIG  \\\n",
            "0  0.323944  1.0      0.5         0.0      0.0      0.0       0.0        0.5   \n",
            "1  0.605634  0.0      0.5         0.0      1.0      0.0       0.0        0.5   \n",
            "2  1.000000  0.0      1.0         0.0      1.0      0.0       0.0        1.0   \n",
            "3  0.338028  0.0      0.0         1.0      0.0      0.0       0.0        1.0   \n",
            "4  0.380282  0.0      1.0         0.0      0.0      0.0       0.0        1.0   \n",
            "\n",
            "   LIVER_FIRM  SPLEEN_PALPABLE  SPIDERS  ASCITES  VARICES  BILIRUBIN  \\\n",
            "0         0.5              0.5      0.5      0.5      0.5   0.155556   \n",
            "1         0.5              0.5      0.5      0.5      0.5   0.133333   \n",
            "2         0.5              0.5      0.5      0.5      0.5   0.088889   \n",
            "3         0.5              0.5      0.5      0.5      0.5   0.088889   \n",
            "4         0.5              0.5      0.5      0.5      0.5   0.133333   \n",
            "\n",
            "   ALK_PHOSPHATE      SGOT  ALBUMIN  HISTOLOGY  Class  \n",
            "0       0.219331  0.007782  0.59375        0.0    1.0  \n",
            "1       0.405204  0.054475  0.43750        0.0    1.0  \n",
            "2       0.260223  0.035019  0.59375        0.0    1.0  \n",
            "3       0.074349  0.073930  0.59375        0.0    1.0  \n",
            "4       0.256506  0.027237  0.59375        0.0    1.0  \n",
            "        AGE  SEX  STEROID  ANTIVIRALS  FATIGUE  MALAISE  ANOREXIA  LIVER_BIG  \\\n",
            "0  0.323944  1.0      0.5         0.0      0.5      0.5       0.5        0.5   \n",
            "1  0.605634  0.0      0.5         0.0      1.0      0.5       0.5        0.5   \n",
            "2  1.000000  0.0      1.0         0.0      1.0      0.5       0.5        1.0   \n",
            "3  0.338028  0.0      0.0         1.0      0.5      0.5       0.5        1.0   \n",
            "4  0.380282  0.0      1.0         0.0      0.5      0.5       0.5        1.0   \n",
            "\n",
            "   LIVER_FIRM  SPLEEN_PALPABLE  SPIDERS  ASCITES  VARICES  BILIRUBIN  \\\n",
            "0         0.5              0.5      0.5      0.5      0.5   0.090909   \n",
            "1         0.5              0.5      0.5      0.5      0.5   0.077922   \n",
            "2         0.5              0.5      0.5      0.5      0.5   0.051948   \n",
            "3         0.5              0.5      0.5      0.5      0.5   0.051948   \n",
            "4         0.5              0.5      0.5      0.5      0.5   0.090909   \n",
            "\n",
            "   ALK_PHOSPHATE      SGOT   ALBUMIN  HISTOLOGY  Class  \n",
            "0       0.219331  0.006309  0.441860        0.0    1.0  \n",
            "1       0.405204  0.044164  0.325581        0.0    1.0  \n",
            "2       0.260223  0.028391  0.441860        0.0    1.0  \n",
            "3       0.074349  0.059937  0.441860        0.0    1.0  \n",
            "4       0.219331  0.293375  0.441860        0.0    1.0  \n"
          ]
        }
      ]
    },
    {
      "cell_type": "markdown",
      "source": [
        "**T7.** *Feature selection using forward and backward sequential selection.*\n",
        "\n",
        "SequentialFeatureSelector is used with an SVM classifier using a linear kernel to identify which features contribute most to predicting the target variable. This is done both in a forward and backward manner, where forward selection starts with no features and adds one at a time, and backward selection starts with all features and removes one at a time."
      ],
      "metadata": {
        "id": "KkEhya7DOGtL"
      }
    },
    {
      "cell_type": "code",
      "source": [
        "from sklearn.feature_selection import SequentialFeatureSelector  # Import SequentialFeatureSelector for feature selection.\n",
        "from sklearn.svm import SVC                                     # Import SVC class for creating the selection model.\n",
        "\n",
        "def feature_selection(df, y_column_name):\n",
        "    X = df.drop(columns=[y_column_name])                         # Separate the feature matrix from the labels.\n",
        "    y = df[y_column_name]                                        # Isolate the label vector.\n",
        "\n",
        "    sfs_forward = SequentialFeatureSelector(SVC(kernel='linear'),  # Create a forward sequential feature selector.\n",
        "                                            n_features_to_select=5,\n",
        "                                            direction='forward').fit(X, y)\n",
        "    sfs_backward = SequentialFeatureSelector(SVC(kernel='linear'),  # Create a backward sequential feature selector.\n",
        "                                             n_features_to_select=5,\n",
        "                                             direction='backward').fit(X,y)   # Fit the backward feature selector to the features and labels.\n",
        "\n",
        "    df_forward = X[sfs_forward.get_feature_names_out()]  # Select the features chosen by the forward method.\n",
        "    df_backward = X[sfs_backward.get_feature_names_out()]  # Select the features chosen by the backward method.\n",
        "\n",
        "    return df_forward, df_backward  # Return the DataFrames with selected features.\n",
        "\n",
        "# Replace 'target' with your actual target column name\n",
        "actual_target_column_name = 'Class'  # Replace 'Class' with your actual target column name.\n",
        "\n",
        "df3, df4 = feature_selection(df1_normalized, actual_target_column_name)  # Apply feature selection to df1_normalized.\n",
        "df5, df6 = feature_selection(df2_normalized, actual_target_column_name)  # Apply feature selection to df2_normalized.\n",
        "\n",
        "print(\"Features selected by forward selection from df1_normalized:\", df3.columns.tolist())\n",
        "print(\"Features selected by backward selection from df1_normalized:\", df4.columns.tolist())\n",
        "print(\"Features selected by forward selection from df2_normalized:\", df5.columns.tolist())\n",
        "print(\"Features selected by backward selection from df2_normalized:\", df6.columns.tolist())\n",
        "\n"
      ],
      "metadata": {
        "colab": {
          "base_uri": "https://localhost:8080/"
        },
        "id": "erTTcD36OHD0",
        "outputId": "cadd20f5-d771-45c8-9a5a-055abf29f6e7"
      },
      "execution_count": 13,
      "outputs": [
        {
          "output_type": "stream",
          "name": "stdout",
          "text": [
            "Features selected by forward selection from df1_normalized: ['AGE', 'MALAISE', 'LIVER_BIG', 'ASCITES', 'BILIRUBIN']\n",
            "Features selected by backward selection from df1_normalized: ['MALAISE', 'ASCITES', 'ALK_PHOSPHATE', 'ALBUMIN', 'HISTOLOGY']\n",
            "Features selected by forward selection from df2_normalized: ['LIVER_FIRM', 'ASCITES', 'VARICES', 'BILIRUBIN', 'ALBUMIN']\n",
            "Features selected by backward selection from df2_normalized: ['MALAISE', 'LIVER_FIRM', 'ASCITES', 'ALBUMIN', 'HISTOLOGY']\n"
          ]
        }
      ]
    },
    {
      "cell_type": "markdown",
      "source": [
        "**T8.** *Dimensionality reduction using PCA*.\n",
        "\n",
        "PCA, or Principal Component Analysis, reduces the dimensionality of data by transforming it into a new set of variables, the principal components, which are uncorrelated and which capture the maximum amount of variance.\n"
      ],
      "metadata": {
        "id": "zK78OP5vOO_s"
      }
    },
    {
      "cell_type": "code",
      "source": [
        "from sklearn.decomposition import PCA  # Import PCA for dimensionality reduction.\n",
        "\n",
        "def reduce_dimensions(df, n_components=5):\n",
        "    pca = PCA(n_components=n_components)  # Instantiate the PCA model with the number of desired components.\n",
        "    principal_components = pca.fit_transform(df)  # Fit PCA on the dataset and apply the dimensionality reduction.\n",
        "    df_pca = pd.DataFrame(data=principal_components)  # Create a new DataFrame with the principal components.\n",
        "    return df_pca  # Return the new DataFrame with reduced dimensions.\n",
        "\n",
        "df1_pca = reduce_dimensions(df1_normalized, 5)  # Apply PCA to reduce to 5 components.\n",
        "df2_pca = reduce_dimensions(df2_normalized, 5)\n",
        "\n",
        "print(df1_pca.head())  # Display the first few rows of the DataFrame with PCA applied to df1_normalized.\n",
        "print(df2_pca.head())  # Display the first few rows of the DataFrame with PCA applied to df2_normalized.\n"
      ],
      "metadata": {
        "colab": {
          "base_uri": "https://localhost:8080/"
        },
        "id": "S34Gz9fhOPTV",
        "outputId": "3e3ce041-69c4-4007-ac86-0836e9aea582"
      },
      "execution_count": 14,
      "outputs": [
        {
          "output_type": "stream",
          "name": "stdout",
          "text": [
            "          0         1         2         3         4\n",
            "0 -0.868923  0.100085  0.224141 -0.011926  0.287704\n",
            "1 -0.291080  0.179293  0.207746 -0.403591 -0.266730\n",
            "2 -0.375175  0.162059  0.126583 -0.570216 -0.272636\n",
            "3 -0.965299  0.214908 -0.488233  0.650456 -0.267424\n",
            "4 -0.905275 -0.104778  0.311070 -0.030111  0.002677\n",
            "          0         1         2         3         4\n",
            "0 -0.638351  0.079683  0.088872 -0.050766  0.599008\n",
            "1 -0.407662  0.102966  0.312726 -0.048114  0.226962\n",
            "2 -0.459878  0.064887  0.138737 -0.283198 -0.082283\n",
            "3 -0.750604 -0.266761  0.018817  0.746232 -0.348014\n",
            "4 -0.580482  0.250066  0.086069 -0.300892 -0.225183\n"
          ]
        }
      ]
    },
    {
      "cell_type": "markdown",
      "source": [
        "**T9.** *Model performance comparison*\n",
        "\n",
        " Support Vector Machine (SVM) model with a Radial Basis Function (RBF) kernel is trained and evaluated. The train_test_split function from sklearn.model_selection is used to divide the dataset into a training set and a test set. The SVM is then trained on the training set and evaluated on the test set. The accuracy score is calculated by comparing the predicted labels against the true labels in the test set.\n"
      ],
      "metadata": {
        "id": "vpD3mm99OX_-"
      }
    },
    {
      "cell_type": "code",
      "source": [
        "# Import necessary libraries\n",
        "from sklearn.svm import SVC\n",
        "from sklearn.model_selection import train_test_split\n",
        "from sklearn.metrics import accuracy_score\n",
        "\n",
        "# Function to train and evaluate the SVM model\n",
        "def train_and_evaluate_models(df, y_column_name):\n",
        "    # Separate the features from the target variable\n",
        "    X = df.drop(columns=[y_column_name])\n",
        "    y = df[y_column_name]\n",
        "\n",
        "    # Split the dataset into training and test sets\n",
        "    X_train, X_test, y_train, y_test = train_test_split(X, y, test_size=0.2, random_state=42)\n",
        "\n",
        "    # Instantiate the SVM model with specific hyperparameters\n",
        "    svm = SVC(C=1e6, kernel='rbf', gamma='auto')\n",
        "\n",
        "    # Fit the SVM model to the training data\n",
        "    svm.fit(X_train, y_train)\n",
        "\n",
        "    # Predict the target variable for the test set\n",
        "    y_pred = svm.predict(X_test)\n",
        "\n",
        "    # Calculate and return the accuracy of the model\n",
        "    return accuracy_score(y_test, y_pred)\n",
        "\n",
        "# Example of using the train_and_evaluate_models function\n",
        "# Replace 'Class' with the actual name of your target column\n",
        "accuracy_df1 = train_and_evaluate_models(df1_normalized, 'Class')\n",
        "accuracy_df2 = train_and_evaluate_models(df2_normalized, 'Class')\n",
        "\n",
        "# Print the accuracy scores\n",
        "print(\"Accuracy of model with df1_normalized:\", accuracy_df1)\n",
        "print(\"Accuracy of model with df2_normalized:\", accuracy_df2)\n",
        "\n",
        "# Assuming you have df3, df4, df5, df6 after feature selection from Task 7,\n",
        "# you would similarly call the function for those dataframes and print their accuracies.\n",
        "\n"
      ],
      "metadata": {
        "colab": {
          "base_uri": "https://localhost:8080/"
        },
        "id": "73OuYDVNOYXR",
        "outputId": "6db10565-6b15-4380-d2f5-6ce36b7baca5"
      },
      "execution_count": 15,
      "outputs": [
        {
          "output_type": "stream",
          "name": "stdout",
          "text": [
            "Accuracy of model with df1_normalized: 0.875\n",
            "Accuracy of model with df2_normalized: 0.7419354838709677\n"
          ]
        }
      ]
    }
  ]
}